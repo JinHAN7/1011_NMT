{
 "cells": [
  {
   "cell_type": "markdown",
   "metadata": {},
   "source": [
    "TODO:\n",
    "1. EOS\n",
    "2. Beam search  \n",
    "//////\n",
    "1. CNN - done\n",
    "2. plot - done\n",
    "3. BLEU - done\n",
    "4. Evaluation - done\n",
    "5. early stopping - done\n",
    "\n",
    "\n",
    "To run this notebook for actual analysis:  \n",
    "remove breaker in train_model  \n",
    "increase hidden size  \n",
    "increase eva_every  \n"
   ]
  },
  {
   "cell_type": "code",
   "execution_count": 1,
   "metadata": {
    "collapsed": true
   },
   "outputs": [],
   "source": [
    "from __future__ import unicode_literals, print_function, division\n",
    "import pickle as pkl\n",
    "from io import open\n",
    "import unicodedata\n",
    "import string\n",
    "import re\n",
    "import random\n",
    "import torch\n",
    "import sacrebleu\n",
    "from torch.utils.data import Dataset\n",
    "import matplotlib.pyplot as plt\n",
    "import numpy as np\n",
    "import pandas as pd\n",
    "plt.switch_backend('agg')\n",
    "import matplotlib.ticker as ticker\n",
    "%matplotlib inline\n",
    "import torch.nn as nn\n",
    "from torch import optim\n",
    "import torch.nn.functional as F\n",
    "from torch.autograd import Variable\n",
    "import time\n",
    "import math\n",
    "from sacrebleu import corpus_bleu\n",
    "\n",
    "device = 'cuda' if torch.cuda.is_available() else 'cpu'\n"
   ]
  },
  {
   "cell_type": "markdown",
   "metadata": {},
   "source": [
    "## Data Pre-processing"
   ]
  },
  {
   "cell_type": "code",
   "execution_count": 2,
   "metadata": {
    "collapsed": true
   },
   "outputs": [],
   "source": [
    "SOS_token = 0\n",
    "EOS_token = 1\n",
    "PAD_IDX = 2\n",
    "UNK_IDX = 3\n",
    "class Lang:\n",
    "    def __init__(self, name):\n",
    "        self.name = name\n",
    "        self.word2index = {}\n",
    "        self.word2count = {}\n",
    "        self.index2word = {0: \"SOS\", 1: \"EOS\", 2:\"PAD\", 3:\"UNK\"}\n",
    "        self.n_words = 4  # Count SOS and EOS\n",
    "\n",
    "    def addSentence(self, sentence):\n",
    "        for word in sentence:\n",
    "            self.addWord(word)\n",
    "\n",
    "    def addWord(self, word):\n",
    "        if word not in self.word2index:\n",
    "            self.word2index[word] = self.n_words\n",
    "            self.word2count[word] = 1\n",
    "            self.index2word[self.n_words] = word\n",
    "            self.n_words += 1\n",
    "        else:\n",
    "            self.word2count[word] += 1"
   ]
  },
  {
   "cell_type": "code",
   "execution_count": 3,
   "metadata": {
    "collapsed": true
   },
   "outputs": [],
   "source": [
    "def normalizeString(s):\n",
    "    s = re.sub(r\"([.!?])\", r\" \\1\", s)\n",
    "    s = re.sub(r\"&apos;m\", r\"am\", s)\n",
    "    s = re.sub(r\"&apos;s\", r\"is\", s)\n",
    "    s = re.sub(r\"&apos;re\", r\"are\", s)\n",
    "    s = re.sub(r\"&apos;\", r\"\", s)\n",
    "    return s"
   ]
  },
  {
   "cell_type": "code",
   "execution_count": 4,
   "metadata": {
    "collapsed": true
   },
   "outputs": [],
   "source": [
    "def asMinutes(s):\n",
    "    m = math.floor(s / 60)\n",
    "    s -= m * 60\n",
    "    return '%dm %ds' % (m, s)\n",
    "\n",
    "\n",
    "def timeSince(since, percent):\n",
    "    now = time.time()\n",
    "    s = now - since\n",
    "    es = s / (percent)\n",
    "    rs = es - s\n",
    "    return '%s (- %s)' % (asMinutes(s), asMinutes(rs))\n",
    "\n",
    "def showPlot(points):\n",
    "    plt.figure()\n",
    "    fig, ax = plt.subplots()\n",
    "    # this locator puts ticks at regular intervals\n",
    "    loc = ticker.MultipleLocator(base=0.5)\n",
    "    ax.yaxis.set_major_locator(loc)\n",
    "    plt.plot(points)\n",
    "    plt.show()\n"
   ]
  },
  {
   "cell_type": "code",
   "execution_count": 5,
   "metadata": {
    "collapsed": true
   },
   "outputs": [],
   "source": [
    "def loadingLangs(sourcelang, targetlang, setname):\n",
    "    input_ls = []\n",
    "    output_ls = []\n",
    "    print('Reading lines...')\n",
    "    # Read the file \n",
    "    with open('data/iwslt-%s-%s/%s.tok.%s'%(sourcelang, targetlang, setname,sourcelang)) as f:\n",
    "        for line in f.readlines():\n",
    "            input_ls.append([normalizeString(word) for word in line.split()])\n",
    "    with open('data/iwslt-%s-%s/%s.tok.%s'%(sourcelang, targetlang, setname,targetlang)) as f:\n",
    "        for line in f.readlines():\n",
    "            output_ls.append([normalizeString(word) for word in line.split()])\n",
    "    pairs = list(zip(input_ls, output_ls))\n",
    "    print('Read %s sentence pairs'%(len(input_ls)))\n",
    "    input_lang = Lang(sourcelang)\n",
    "    output_lang = Lang(targetlang)\n",
    "    print(\"Counting words...\")\n",
    "    for pair in pairs:\n",
    "        input_lang.addSentence(pair[0])\n",
    "        output_lang.addSentence(pair[1])\n",
    "    print(\"Counted words:\")\n",
    "    print(input_lang.name, input_lang.n_words)\n",
    "    print(output_lang.name, output_lang.n_words)\n",
    "    return input_lang, output_lang, pairs"
   ]
  },
  {
   "cell_type": "code",
   "execution_count": 6,
   "metadata": {},
   "outputs": [
    {
     "name": "stdout",
     "output_type": "stream",
     "text": [
      "Reading lines...\n",
      "Read 213377 sentence pairs\n",
      "Counting words...\n",
      "Counted words:\n",
      "zh 88918\n",
      "en 69063\n",
      "Reading lines...\n",
      "Read 1261 sentence pairs\n",
      "Counting words...\n",
      "Counted words:\n",
      "zh 6133\n",
      "en 4015\n",
      "Reading lines...\n",
      "Read 1397 sentence pairs\n",
      "Counting words...\n",
      "Counted words:\n",
      "zh 5215\n",
      "en 3518\n"
     ]
    }
   ],
   "source": [
    "source_tra, target_tra, pairs_tra = loadingLangs('zh', 'en', 'train')\n",
    "source_val, target_val, pairs_val = loadingLangs('zh', 'en', 'dev')\n",
    "source_tes, target_tes, pairs_tes = loadingLangs('zh', 'en', 'test')"
   ]
  },
  {
   "cell_type": "code",
   "execution_count": 7,
   "metadata": {},
   "outputs": [
    {
     "name": "stdout",
     "output_type": "stream",
     "text": [
      "95% of chinese sentences length = 44.0\n",
      "95% of english sentences length = 48.0\n",
      "(['我们', '只是', '关心', '天气', '是', '好', '是', '坏'], ['We', 'just', 'think', 'of', 'good', 'weather', 'and', 'bad', 'weather', ' .'])\n"
     ]
    }
   ],
   "source": [
    "print(\"95% of chinese sentences length = {0}\".format(np.percentile([len(x[0]) for x in pairs_tra], 95)))\n",
    "print(\"95% of english sentences length = {0}\".format(np.percentile([len(x[1]) for x in pairs_tra], 95)))\n",
    "print(random.choice(pairs_tra))"
   ]
  },
  {
   "cell_type": "markdown",
   "metadata": {},
   "source": [
    "## Dataset"
   ]
  },
  {
   "cell_type": "code",
   "execution_count": 8,
   "metadata": {
    "collapsed": true
   },
   "outputs": [],
   "source": [
    "MAX_SENT_LEN = 50\n",
    "BATCH_SIZE = 32"
   ]
  },
  {
   "cell_type": "code",
   "execution_count": 9,
   "metadata": {
    "collapsed": true
   },
   "outputs": [],
   "source": [
    "def indexesFromSentence(lang, sentence):\n",
    "    return [lang.word2index[word] if word in lang.word2index else UNK_IDX for word in sentence]\n",
    "\n",
    "\n",
    "def tensorFromSentence(lang, sentence):\n",
    "    indexes = indexesFromSentence(lang, sentence)\n",
    "    indexes.append(EOS_token)\n",
    "    return torch.tensor(indexes, dtype=torch.long, device=device).view(-1, 1)\n",
    "\n",
    "\n",
    "def tensorsFromPair(pair,source,target):\n",
    "    input_lang = source\n",
    "    output_lang = target\n",
    "    input_tensor = tensorFromSentence(input_lang, pair[0]).reshape((-1))\n",
    "    target_tensor = tensorFromSentence(output_lang, pair[1]).reshape((-1))\n",
    "    return (input_tensor, input_tensor.shape[0], target_tensor, target_tensor.shape[0])"
   ]
  },
  {
   "cell_type": "code",
   "execution_count": 10,
   "metadata": {
    "collapsed": true
   },
   "outputs": [],
   "source": [
    "class NMTDataset(Dataset):\n",
    "    def __init__(self, source, target, pairs):\n",
    "        self.source = source\n",
    "        self.target = target\n",
    "        self.pairs = pairs\n",
    "        \n",
    "    def __len__(self):\n",
    "        return len(self.pairs)\n",
    "    \n",
    "    def __getitem__(self, key):\n",
    "        \"\"\"\n",
    "        Triggered when you call dataset[i]\n",
    "        \"\"\"\n",
    "        inp_ten, inp_len, tar_ten, tar_len = tensorsFromPair(self.pairs[key], self.source, self.target)\n",
    "        item = {}\n",
    "        item['inputtensor'] = inp_ten[:MAX_SENT_LEN]\n",
    "        item['inputlen'] = min(inp_len, MAX_SENT_LEN)\n",
    "        item['targettensor'] = tar_ten[:MAX_SENT_LEN]\n",
    "        item['targetlen'] = min(tar_len, MAX_SENT_LEN)\n",
    "        return item"
   ]
  },
  {
   "cell_type": "code",
   "execution_count": 11,
   "metadata": {
    "collapsed": true
   },
   "outputs": [],
   "source": [
    "train_data = NMTDataset(source_tra, target_tra, pairs_tra)\n",
    "val_data = NMTDataset(source_tra, target_tra, pairs_val)# should use index2word from training. Jin modified\n",
    "test_data = NMTDataset(source_tra, target_tra, pairs_tes)# should use index2word from training .Jin modified"
   ]
  },
  {
   "cell_type": "markdown",
   "metadata": {},
   "source": [
    "## Dataloader"
   ]
  },
  {
   "cell_type": "code",
   "execution_count": 12,
   "metadata": {
    "collapsed": true
   },
   "outputs": [],
   "source": [
    "#collate function\n",
    "\n",
    "def collate_func(batch):\n",
    "    \"\"\"\n",
    "    Customized function for DataLoader that dynamically pads the batch so that all\n",
    "    data have the same length\n",
    "    \"\"\"\n",
    "    src_data, tar_data, src_len, tar_len = [], [], [], []\n",
    "    for datum in batch:        \n",
    "        src_datum = np.pad(np.array(datum['inputtensor']),\n",
    "                                pad_width=((0,MAX_SENT_LEN-datum['inputlen'])),\n",
    "                                mode=\"constant\", constant_values=PAD_IDX)\n",
    "        tar_datum = np.pad(np.array(datum['targettensor']),\n",
    "                                pad_width=((0,MAX_SENT_LEN-datum['targetlen'])),\n",
    "                                mode=\"constant\", constant_values=PAD_IDX)\n",
    "        src_data.append(src_datum)\n",
    "        tar_data.append(tar_datum)\n",
    "        src_len.append(datum['inputlen'])\n",
    "        tar_len.append(datum['targetlen'])\n",
    "    return [torch.from_numpy(np.array(src_data)).to(device),torch.from_numpy(np.array(tar_data)).to(device),\n",
    "               torch.from_numpy(np.array(src_len)).to(device),torch.from_numpy(np.array(tar_len)).to(device)]"
   ]
  },
  {
   "cell_type": "code",
   "execution_count": 13,
   "metadata": {
    "collapsed": true
   },
   "outputs": [],
   "source": [
    "train_loader = torch.utils.data.DataLoader(train_data,\n",
    "                                           batch_size=BATCH_SIZE,shuffle=True, collate_fn=collate_func)\n",
    "val_loader = torch.utils.data.DataLoader(val_data,\n",
    "                                           batch_size=BATCH_SIZE,shuffle=False, collate_fn=collate_func)"
   ]
  },
  {
   "cell_type": "code",
   "execution_count": 14,
   "metadata": {},
   "outputs": [
    {
     "name": "stdout",
     "output_type": "stream",
     "text": [
      "input sentence batch: \n",
      "tensor([[  277,  6941,  1067,  ...,     2,     2,     2],\n",
      "        [   16,   178,  2547,  ...,     2,     2,     2],\n",
      "        [  107,   416, 27409,  ...,     2,     2,     2],\n",
      "        ...,\n",
      "        [ 1330,   173,    49,  ...,     2,     2,     2],\n",
      "        [   75,   277, 37447,  ...,     2,     2,     2],\n",
      "        [  446,   110,   274,  ...,     2,     2,     2]])\n",
      "input batch dimension: torch.Size([32, 50])\n",
      "target sentence batch: \n",
      "tensor([[   74,  2692,    23,  ...,     2,     2,     2],\n",
      "        [   51,    52,  4588,  ...,     2,     2,     2],\n",
      "        [ 4660,   264,    63,  ...,     2,     2,     2],\n",
      "        ...,\n",
      "        [ 1197,    16,     5,  ...,     2,     2,     2],\n",
      "        [  156,     6, 13503,  ...,     2,     2,     2],\n",
      "        [  146,   446,     5,  ...,     2,     2,     2]])\n",
      "target batch dimension: torch.Size([32, 50])\n",
      "input sentence len: \n",
      "tensor([18, 42, 25, 50,  8, 50, 14, 15, 25, 21, 28, 21, 19,  2, 13, 17,  4, 34,\n",
      "        10,  7, 30, 17, 17, 16, 14, 18, 33, 12, 19,  7, 28, 26])\n",
      "target sentence len: \n",
      "tensor([21, 32, 30, 50,  9, 50, 10, 20, 26, 27, 40, 22, 29,  4, 14, 22,  7, 38,\n",
      "        13,  6, 28, 17, 18, 19, 13, 17, 37, 14, 22, 11, 43, 22])\n"
     ]
    }
   ],
   "source": [
    "# sample data loader\n",
    "count = 0\n",
    "for data in train_loader:\n",
    "    count+=1\n",
    "    print('input sentence batch: ')\n",
    "    print(data[0])\n",
    "    print('input batch dimension: {}'.format(data[0].size()))\n",
    "    print('target sentence batch: ')\n",
    "    print(data[1])\n",
    "    print('target batch dimension: {}'.format(data[1].size()))\n",
    "    print('input sentence len: ')\n",
    "    print(data[2])\n",
    "    print('target sentence len: ')\n",
    "    print(data[3])\n",
    "    if count == 1:\n",
    "        break"
   ]
  },
  {
   "cell_type": "markdown",
   "metadata": {},
   "source": [
    "----------------------"
   ]
  },
  {
   "cell_type": "markdown",
   "metadata": {},
   "source": [
    "## Model"
   ]
  },
  {
   "cell_type": "code",
   "execution_count": 15,
   "metadata": {
    "collapsed": true
   },
   "outputs": [],
   "source": [
    "\n",
    "hyper = {\n",
    "    'HIDDEN_SIZE': 16,\n",
    "    'LR': 0.01,\n",
    "    'EVA_EVERY': 2,\n",
    "    'DROP_OUT': 0.3,\n",
    "    'TEACHER_RATIO': 0.5,\n",
    "    'N_LAYERS': 1,\n",
    "    'KER_SIZE': 3,\n",
    "    'NUM_EPOCHS': 2   \n",
    "}\n"
   ]
  },
  {
   "cell_type": "code",
   "execution_count": 16,
   "metadata": {
    "collapsed": true
   },
   "outputs": [],
   "source": [
    "class EncoderRNN(nn.Module):\n",
    "    def __init__(self, input_size, hidden_size, n_layers=1):\n",
    "        super(EncoderRNN, self).__init__()\n",
    "        self.n_layers = n_layers\n",
    "        self.hidden_size = hidden_size\n",
    "        self.embedding = nn.Embedding(input_size, hidden_size)\n",
    "        self.gru = nn.GRU(hidden_size, hidden_size, bidirectional=True) \n",
    "        self.fc1 = nn.Linear(2*hidden_size, hidden_size)\n",
    "    def initHidden(self,batch_size):\n",
    "        return torch.zeros(2, batch_size, self.hidden_size, device=device) \n",
    "    \n",
    "    def forward(self, input, hidden):\n",
    "        batch_size = input.size()[0]\n",
    "        embedded = self.embedding(input).view(1, batch_size, -1)   \n",
    "        output = embedded\n",
    "        for i in range(self.n_layers):\n",
    "            output, hidden = self.gru(output, hidden)  \n",
    "        output = self.fc1(output)\n",
    "        return output, hidden"
   ]
  },
  {
   "cell_type": "code",
   "execution_count": 17,
   "metadata": {
    "collapsed": true
   },
   "outputs": [],
   "source": [
    "class EncoderCNN(nn.Module):\n",
    "    def __init__(self, input_size, hidden_size, ker_size=3, n_layers=1):\n",
    "        super(EncoderCNN, self).__init__()\n",
    "        self.hidden_size = hidden_size\n",
    "        self.n_layers = n_layers\n",
    "        self.embedding = nn.Embedding(input_size, hidden_size)\n",
    "        self.conv1 = nn.Conv1d(hidden_size, hidden_size, kernel_size=ker_size, padding=(ker_size-1)//2)\n",
    "        self.conv2 = nn.Conv1d(hidden_size, hidden_size, kernel_size=ker_size, padding=(ker_size-1)//2)\n",
    "        self.fc1 = nn.Linear(hidden_size, hidden_size)\n",
    "    \n",
    "    \n",
    "    def forward(self, input, hidden):\n",
    "        seq_len, batch_size = input.size()\n",
    "        embedded = self.embedding(input) \n",
    "        output = embedded\n",
    "        output = self.conv1(output.transpose(1,2)).transpose(1,2)\n",
    "        output = F.relu(output.contiguous().view(-1, output.size(-1))).view(batch_size, seq_len, output.size(-1))\n",
    "        output = torch.nn.functional.max_pool1d(output.transpose(1,2), seq_len).transpose(1,2)\n",
    "        output = output.view(-1, output.size(-1))\n",
    "        output = self.fc1(output)\n",
    "        return output, output\n",
    "    \n",
    "    def initHidden(self,batch_size):\n",
    "        return torch.zeros(1, batch_size, self.hidden_size, device=device)"
   ]
  },
  {
   "cell_type": "code",
   "execution_count": 18,
   "metadata": {
    "collapsed": true
   },
   "outputs": [],
   "source": [
    "class Decoder(nn.Module):\n",
    "    def __init__(self, hidden_size, output_size, dropout_p=0.1, max_length=MAX_SENT_LEN, n_layers=1):\n",
    "\n",
    "        super(Decoder, self).__init__()\n",
    "        self.hidden_size = hidden_size\n",
    "        self.output_size = output_size\n",
    "        self.dropout_p = dropout_p\n",
    "        self.max_length = max_length\n",
    "        self.n_layers = n_layers\n",
    "\n",
    "        self.embedding = nn.Embedding(self.output_size, self.hidden_size)\n",
    "        self.dropout = nn.Dropout(self.dropout_p)\n",
    "        self.gru = nn.GRU(self.hidden_size, self.hidden_size)\n",
    "        self.out = nn.Linear(self.hidden_size, self.output_size)\n",
    "\n",
    "    def forward(self, input, hidden, encoder_outputs):\n",
    "        input = input.view(1,-1)\n",
    "        seq_len, batch_size = input.size()\n",
    "        output= self.embedding(input).view(1, batch_size, -1)\n",
    "        for i in range(self.n_layers):\n",
    "            output = F.relu(output)\n",
    "            output, hidden = self.gru(output, hidden)\n",
    "        output = F.log_softmax(self.out(output[0]), dim=1)\n",
    "        return output, hidden"
   ]
  },
  {
   "cell_type": "code",
   "execution_count": 19,
   "metadata": {
    "collapsed": true
   },
   "outputs": [],
   "source": [
    "class AttnDecoder(nn.Module):\n",
    "    def __init__(self, hidden_size, output_size, dropout_p=0.1, max_length=MAX_SENT_LEN):\n",
    "        super(AttnDecoder, self).__init__()\n",
    "        self.hidden_size = hidden_size\n",
    "        self.output_size = output_size\n",
    "        self.dropout_p = dropout_p\n",
    "        self.max_length = max_length\n",
    "\n",
    "        self.embedding = nn.Embedding(self.output_size, self.hidden_size)\n",
    "        self.attn = nn.Linear(self.hidden_size * 2, self.max_length)\n",
    "        self.attn_combine = nn.Linear(self.hidden_size * 2, self.hidden_size)\n",
    "        self.dropout = nn.Dropout(self.dropout_p)\n",
    "        self.gru = nn.GRU(self.hidden_size, self.hidden_size)\n",
    "        self.out = nn.Linear(self.hidden_size, self.output_size)\n",
    "\n",
    "    def forward(self, input, hidden, encoder_outputs):\n",
    "        input = input.view(1,-1)\n",
    "        seq_len, batch_size = input.size()\n",
    "        embedded = self.embedding(input).view(1, batch_size, -1)\n",
    "        embedded = self.dropout(embedded)\n",
    "        attn_weights = F.softmax(\n",
    "            self.attn(torch.cat((embedded[0], hidden[0]), 1)), dim=1)   \n",
    "        attn_applied = torch.bmm(attn_weights.unsqueeze(1),\n",
    "                                 encoder_outputs.transpose(0,1))\n",
    "        \n",
    "        output = torch.cat((embedded[0], attn_applied.transpose(0,1)[0]), 1)\n",
    "        output = self.attn_combine(output).unsqueeze(0)\n",
    "        output = F.relu(output)\n",
    "        output, hidden = self.gru(output, hidden)\n",
    "        output = F.log_softmax(self.out(output[0]), dim=1)\n",
    "        return output, hidden, attn_weights"
   ]
  },
  {
   "cell_type": "markdown",
   "metadata": {},
   "source": [
    "-----------------------------------------------------------"
   ]
  },
  {
   "cell_type": "markdown",
   "metadata": {},
   "source": [
    "## Train"
   ]
  },
  {
   "cell_type": "code",
   "execution_count": 20,
   "metadata": {
    "collapsed": true
   },
   "outputs": [],
   "source": [
    "def train(input_tensor, target_tensor, encoder, decoder,\n",
    "          encoder_optimizer, decoder_optimizer, criterion, mode_dec=None, mode_enc=None):\n",
    "    \n",
    "    hidden_size = hyper['HIDDEN_SIZE']\n",
    "    learning_rate = hyper['LR']\n",
    "    dropout_p = hyper['DROP_OUT']\n",
    "    teacher_forcing_ratio = hyper['TEACHER_RATIO']\n",
    "    n_layers = hyper['N_LAYERS']\n",
    "    ker_size = hyper['KER_SIZE']\n",
    "    \n",
    "    encoder_optimizer.zero_grad()\n",
    "    decoder_optimizer.zero_grad()\n",
    "\n",
    "    input_length = input_tensor.size(0) \n",
    "    target_length = target_tensor.size(0)\n",
    "    batch_size = input_tensor.size()[1]\n",
    "    encoder_hidden = encoder.initHidden(batch_size)\n",
    "    encoder_outputs = torch.zeros(target_length, batch_size, encoder.hidden_size, device=device) \n",
    "    loss = 0\n",
    "    \n",
    "    # feed-forward layer resulting encoder outputs, ei refers to each word token in input sentence\n",
    "    for ei in range(input_length):\n",
    "        if mode_enc == 'cnn':\n",
    "            if ei >= 10:\n",
    "                encoder_output, encoder_hidden = encoder(\n",
    "                    input_tensor[:ei], encoder_hidden)\n",
    "\n",
    "                encoder_outputs[ei-10] = encoder_output \n",
    "        else: \n",
    "            encoder_output, encoder_hidden = encoder(\n",
    "                input_tensor[ei], encoder_hidden)  \n",
    "            encoder_outputs[ei] = encoder_output[0] \n",
    "\n",
    "    if mode_enc == 'cnn':\n",
    "        encoder_hidden = nn.Linear(hidden_size,hidden_size)(encoder_hidden).unsqueeze(0)\n",
    "    else:\n",
    "        encoder_hidden = nn.Linear(2*hidden_size,hidden_size)(\n",
    "            torch.cat((encoder_hidden[0],encoder_hidden[1]),dim = 1)).unsqueeze(0)\n",
    "    \n",
    "    decoder_input = torch.tensor([[SOS_token]*batch_size], device=device)  \n",
    "\n",
    "    decoder_hidden = encoder_hidden\n",
    "    \n",
    "    use_teacher_forcing = True if random.random() < teacher_forcing_ratio else False\n",
    "    \n",
    "    if use_teacher_forcing:\n",
    "  \n",
    "        for di in range(target_length):\n",
    "            if mode_dec == 'attn':\n",
    "                decoder_output, decoder_hidden, decoder_attention = decoder(\n",
    "                    decoder_input, decoder_hidden, encoder_outputs)\n",
    "            else:\n",
    "                decoder_output, decoder_hidden = decoder(\n",
    "                    decoder_input, decoder_hidden, encoder_outputs)\n",
    "                \n",
    "            \n",
    "            decoder_input = target_tensor[di]  \n",
    "\n",
    "            loss += criterion(decoder_output, target_tensor[di]) \n",
    "\n",
    "            \n",
    "    else:\n",
    "  \n",
    "        for di in range(target_length):\n",
    "            if mode_dec == 'attn':\n",
    "                decoder_output, decoder_hidden, decoder_attention = decoder(\n",
    "                    decoder_input, decoder_hidden, encoder_outputs)\n",
    "            else:\n",
    "                decoder_output, decoder_hidden = decoder(\n",
    "                    decoder_input, decoder_hidden, encoder_outputs)\n",
    "\n",
    "            topv, topi = decoder_output.topk(1)\n",
    " \n",
    "            decoder_input = topi.squeeze().detach()\n",
    "            \n",
    "  \n",
    "            loss += criterion(decoder_output, target_tensor[di])\n",
    "\n",
    "    loss.backward()\n",
    "    encoder_optimizer.step() \n",
    "    decoder_optimizer.step()\n",
    "\n",
    "    return loss.item() / target_length"
   ]
  },
  {
   "cell_type": "markdown",
   "metadata": {},
   "source": [
    "------------------------------------------------------------"
   ]
  },
  {
   "cell_type": "markdown",
   "metadata": {},
   "source": [
    "## Evaluate"
   ]
  },
  {
   "cell_type": "code",
   "execution_count": 21,
   "metadata": {
    "collapsed": true
   },
   "outputs": [],
   "source": [
    "def convert_idx_2_sent(pred_tensor, truth_tensor,lang_obj):\n",
    "    pred_word_list = []\n",
    "    truth_word_list = []\n",
    "    for i in pred_tensor:\n",
    "        if i.item() not in set([PAD_IDX,EOS_token,SOS_token]):\n",
    "            pred_word_list.append(lang_obj.index2word[i.item()])\n",
    "    for j in truth_tensor:\n",
    "        if j.item() not in set([PAD_IDX,EOS_token,SOS_token]):\n",
    "            truth_word_list.append(lang_obj.index2word[j.item()])\n",
    "    pred_sent = (' ').join(pred_word_list)\n",
    "    truth_sent = (' ').join(truth_word_list)\n",
    "    return pred_sent, truth_sent"
   ]
  },
  {
   "cell_type": "code",
   "execution_count": 22,
   "metadata": {
    "collapsed": true
   },
   "outputs": [],
   "source": [
    "def bleu(corpus, truths):\n",
    "    '''\n",
    "    corpus: list, NBs * BATCHSIZE * MAX_LEN\n",
    "    truths: list, NBs * BATCHSIZE * MAX_LEN\n",
    "    \n",
    "    return: array of length NBs, avg blue score for each batch\n",
    "    '''\n",
    "    n = len(corpus)\n",
    "    bleus = [0]*n\n",
    "    for i in range(n):\n",
    "        pred, true = corpus[i], truths[i]\n",
    "        sumbleu = 0.0\n",
    "        for j in range(len(corpus[i])):\n",
    "            pred_tensor, true_tensor = pred[j], true[j]\n",
    "            pred_sent, true_sent = convert_idx_2_sent(pred_tensor, true_tensor, target_tra)\n",
    "            sumbleu += corpus_bleu(true_sent, pred_sent).score\n",
    "        avgbleu = sumbleu / len(corpus[i])\n",
    "        bleus[i] = avgbleu\n",
    "    return bleus"
   ]
  },
  {
   "cell_type": "code",
   "execution_count": 23,
   "metadata": {
    "collapsed": true
   },
   "outputs": [],
   "source": [
    "def evaluate(encoder, decoder, data_loader, mode_enc, mode_dec, max_length=MAX_SENT_LEN):\n",
    "    start = time.time()\n",
    "    hidden_size = hyper['HIDDEN_SIZE']\n",
    "    learning_rate = hyper['LR']\n",
    "    dropout_p = hyper['DROP_OUT']\n",
    "    teacher_forcing_ratio = hyper['TEACHER_RATIO']\n",
    "    n_layers = hyper['N_LAYERS']\n",
    "    ker_size = hyper['KER_SIZE']\n",
    "    encoder.eval()\n",
    "    decoder.eval()\n",
    "    corpus = []\n",
    "    truths = []\n",
    "    for i, (input_sentences, target_sentences,len1,len2) in enumerate(data_loader):\n",
    "#         if i % 5 == 0:\n",
    "#             print('Time: {}, Step: [{}/{}]'.format(\n",
    "#                 timeSince(start, i + 1/len(train_loader)), i, len(data_loader)))\n",
    "        input_tensor = input_sentences.transpose(0,1).to(device)  \n",
    "        #target_tensor = target_sentences.transpose(0,1).to(device)# Jin modified\n",
    "        target_tensor = target_sentences.to(device) # Jin modified\n",
    "        truths.append(target_tensor)\n",
    "        input_length = input_tensor.size()[0]\n",
    "        batch_size = input_tensor.size()[1]\n",
    "        encoder_hidden = encoder.initHidden(batch_size)\n",
    "        encoder_outputs = encoder_outputs = torch.zeros(max_length, batch_size, encoder.hidden_size, device=device)\n",
    "        for ei in range(input_length):\n",
    "            if mode_enc == 'cnn':\n",
    "                if ei >= 10:\n",
    "                    encoder_output, encoder_hidden = encoder(\n",
    "                        input_tensor[:ei], encoder_hidden)\n",
    "\n",
    "                    encoder_outputs[ei-10] = encoder_output \n",
    "            else: \n",
    "                encoder_output, encoder_hidden = encoder(\n",
    "                    input_tensor[ei], encoder_hidden)  \n",
    "                encoder_outputs[ei] = encoder_output[0] \n",
    "        if mode_enc == 'cnn':\n",
    "            encoder_hidden = nn.Linear(hidden_size,hidden_size)(encoder_hidden).unsqueeze(0)\n",
    "        else:\n",
    "            encoder_hidden = nn.Linear(2*hidden_size,hidden_size)(\n",
    "                torch.cat((encoder_hidden[0],encoder_hidden[1]),dim = 1)).unsqueeze(0)\n",
    "   \n",
    "        decoder_hidden = encoder_hidden \n",
    "        decoder_input = torch.tensor([[SOS_token]*batch_size], device=device) \n",
    "        decoded_words = torch.zeros(batch_size, max_length)\n",
    "        decoder_attentions = torch.zeros(max_length, max_length)\n",
    "    \n",
    "        for di in range(max_length):\n",
    "            if mode_dec == 'attn':\n",
    "                decoder_output, decoder_hidden, decoder_attention = decoder(\n",
    "                    decoder_input, decoder_hidden, encoder_outputs)\n",
    "            else:\n",
    "                decoder_output, decoder_hidden = decoder(\n",
    "                    decoder_input, decoder_hidden, encoder_outputs)\n",
    "            topv, topi = decoder_output.data.topk(1)\n",
    "            decoded_words[:,di] = topi.squeeze()\n",
    "            decoder_input = topi.squeeze().detach()\n",
    "        corpus.append(decoded_words)\n",
    "\n",
    "    #truths = [t.transpose(0,1) for t in truths] # Jin modified \n",
    "    return corpus, truths"
   ]
  },
  {
   "cell_type": "markdown",
   "metadata": {},
   "source": [
    "## Training"
   ]
  },
  {
   "cell_type": "code",
   "execution_count": 24,
   "metadata": {
    "collapsed": true
   },
   "outputs": [],
   "source": [
    "def plot_loss_bleu(bleu_score,\n",
    "                losses):\n",
    "    \n",
    "    batches = np.arange(0, len(bleu_score))\n",
    "    f, axs = plt.subplots(1, 2, figsize=(15,5))\n",
    "    ax1 = axs[0]\n",
    "    ax1.plot(batches, losses, label='Validation loss')\n",
    "    ax1.set_xlabel(\"number of batches\")\n",
    "#     ax1.plot(batches, validation_loss_history, alpha=0.7, label='Validation Loss')\n",
    "    ax1.legend(loc='upper right')\n",
    "\n",
    "    ax2 = axs[1]\n",
    "    ax2.plot(batches, bleu_score, label='Validation BLEU Score')\n",
    "    ax2.set_xlabel(\"number of batches\")\n",
    "#     ax2.plot(batches, validation_acc_history, alpha=0.7, label='Validation Accuracy')\n",
    "    ax2.legend(loc='upper right')\n",
    "    plt.show()"
   ]
  },
  {
   "cell_type": "code",
   "execution_count": 25,
   "metadata": {
    "collapsed": true
   },
   "outputs": [],
   "source": [
    "def train_model(mode_enc, mode_dec, hyper):\n",
    "    start = time.time()\n",
    "    hidden_size = hyper['HIDDEN_SIZE']\n",
    "    learning_rate = hyper['LR']\n",
    "    eva_every = hyper['EVA_EVERY']\n",
    "    dropout_p = hyper['DROP_OUT']\n",
    "    teacher_forcing_ratio = hyper['TEACHER_RATIO']\n",
    "    n_layers = hyper['N_LAYERS']\n",
    "    ker_size = hyper['KER_SIZE']\n",
    "    num_epoch = hyper['NUM_EPOCHS']\n",
    "    early_stopping = True\n",
    "    patience = 3\n",
    "    required_progress = 0.01\n",
    "    \n",
    "    if mode_enc == 'rnn':\n",
    "        encoder = EncoderRNN(source_tra.n_words, hidden_size, n_layers=n_layers).to(device)\n",
    "        \n",
    "    else:\n",
    "        encoder = EncoderCNN(source_tra.n_words, hidden_size, n_layers=n_layers, ker_size=ker_size).to(device)\n",
    "       \n",
    "    encoder_optimizer = optim.Adam(encoder.parameters(), lr=learning_rate)\n",
    "    \n",
    "    if mode_dec == 'attn':\n",
    "            decoder = AttnDecoder(hidden_size, target_tra.n_words, dropout_p=dropout_p).to(device)\n",
    "    else:\n",
    "            decoder = Decoder(hidden_size, target_tra.n_words, dropout_p=dropout_p).to(device)\n",
    "            \n",
    "    decoder_optimizer = optim.Adam(decoder.parameters(), lr=learning_rate)\n",
    "    criterion = nn.NLLLoss() \n",
    "    plot_bleu_score_val = []\n",
    "    plot_losses = []\n",
    "    loss_total = 0 \n",
    "    best_score = None\n",
    "    count = 0\n",
    "    for epoch in range(1, num_epoch + 1): \n",
    "        for i, (input_sentences, target_sentences,len1,len2) in enumerate(train_loader): \n",
    "            ### delete break\n",
    "            if i > 4:\n",
    "                break\n",
    "            encoder.train()\n",
    "            decoder.train()\n",
    "            input_tensor = input_sentences.transpose(0,1)   \n",
    "            target_tensor = target_sentences.transpose(0,1) \n",
    "            loss = train(input_tensor, target_tensor, encoder,\n",
    "                         decoder, encoder_optimizer, decoder_optimizer, criterion, mode_dec=mode_dec, mode_enc=mode_enc)\n",
    "            loss_total += loss\n",
    "            if i > 0 and i % eva_every == 0:\n",
    "                    corpus, truths = evaluate(encoder, decoder, val_loader, max_length=MAX_SENT_LEN, mode_enc=mode_enc, mode_dec=mode_dec)\n",
    "                    bleu_score_val = bleu(corpus, truths)\n",
    "                    bleu_score_val_avg = np.mean(bleu_score_val)\n",
    "                    loss_avg = loss_total / eva_every\n",
    "                    loss_total = 0\n",
    "                    plot_losses.append(loss_avg)\n",
    "                    plot_bleu_score_val.append(bleu_score_val_avg)\n",
    "                    if best_score is None:\n",
    "                        best_score = bleu_score_val_avg\n",
    "                    if bleu_score_val_avg < best_score + required_progress:\n",
    "                        count += 1\n",
    "                    elif bleu_score_val_avg > best_score:\n",
    "                        best_score = bleu_score_val_avg\n",
    "                        count = 0\n",
    "                    if early_stopping:\n",
    "                        if count >= patience:\n",
    "                            print(\"earily stop triggered\")\n",
    "                            break\n",
    "                    print('Time: {0}, Epoch: [{1}/{2}], Step: [{3}/{4}], Train Loss: {5}, BLEU score: {6}'.format(\n",
    "                        timeSince(start, i + 1/len(train_loader)), epoch, num_epoch, i, \n",
    "                        len(train_loader), loss_avg, bleu_score_val_avg))\n",
    "        \n",
    "        if early_stopping:\n",
    "            if count >= patience:\n",
    "                break\n",
    "    plot_loss_bleu(plot_bleu_score_val, plot_losses)\n"
   ]
  },
  {
   "cell_type": "markdown",
   "metadata": {},
   "source": [
    "RNN+Attn"
   ]
  },
  {
   "cell_type": "code",
   "execution_count": 27,
   "metadata": {},
   "outputs": [
    {
     "name": "stdout",
     "output_type": "stream",
     "text": [
      "Time: 3m 1s (- -2m 29s), Epoch: [1/2], Step: [2/6669], Train Loss: 16.432647094726562, BLEU score: 0.18524868077894913\n",
      "Time: 5m 39s (- -5m 45s), Epoch: [1/2], Step: [4/6669], Train Loss: 10.36534454345703, BLEU score: 1.4079296375564139\n",
      "Time: 8m 28s (- -5m 45s), Epoch: [2/2], Step: [2/6669], Train Loss: 14.098573608398436, BLEU score: 1.1028777664944347\n",
      "Time: 10m 52s (- -9m 50s), Epoch: [2/2], Step: [4/6669], Train Loss: 8.682043151855469, BLEU score: 0.2037010210238805\n"
     ]
    },
    {
     "data": {
      "image/png": "[encoded data removed]",
      "text/plain": [
       "<Figure size 1080x360 with 2 Axes>"
      ]
     },
     "metadata": {
      "needs_background": "light"
     },
     "output_type": "display_data"
    }
   ],
   "source": [
    "train_model('rnn', 'attn', hyper)"
   ]
  },
  {
   "cell_type": "markdown",
   "metadata": {},
   "source": [
    "Rnn+noattn"
   ]
  },
  {
   "cell_type": "code",
   "execution_count": 28,
   "metadata": {},
   "outputs": [
    {
     "name": "stdout",
     "output_type": "stream",
     "text": [
      "Time: 2m 26s (- -2m 46s), Epoch: [1/2], Step: [2/6669], Train Loss: 16.764436645507814, BLEU score: 0.1874576316196743\n",
      "Time: 4m 47s (- -4m 24s), Epoch: [1/2], Step: [4/6669], Train Loss: 10.721499633789062, BLEU score: 1.3976420119329735\n",
      "Time: 7m 5s (- -4m 27s), Epoch: [2/2], Step: [2/6669], Train Loss: 15.43598876953125, BLEU score: 1.4120705024750964\n",
      "Time: 9m 21s (- -8m 58s), Epoch: [2/2], Step: [4/6669], Train Loss: 9.824095458984376, BLEU score: 1.4063869296753992\n"
     ]
    },
    {
     "data": {
      "image/png": "[encoded data removed]",
      "text/plain": [
       "<Figure size 1080x360 with 2 Axes>"
      ]
     },
     "metadata": {
      "needs_background": "light"
     },
     "output_type": "display_data"
    }
   ],
   "source": [
    "train_model('rnn', 'noattn', hyper)"
   ]
  },
  {
   "cell_type": "markdown",
   "metadata": {},
   "source": [
    "cnn+attn"
   ]
  },
  {
   "cell_type": "code",
   "execution_count": 29,
   "metadata": {},
   "outputs": [
    {
     "name": "stdout",
     "output_type": "stream",
     "text": [
      "Time: 2m 1s (- -2m 59s), Epoch: [1/2], Step: [2/6669], Train Loss: 16.55219970703125, BLEU score: 0.18392036231360262\n",
      "Time: 4m 6s (- -4m 55s), Epoch: [1/2], Step: [4/6669], Train Loss: 10.271667175292968, BLEU score: 1.4016658904889774\n",
      "Time: 6m 22s (- -4m 48s), Epoch: [2/2], Step: [2/6669], Train Loss: 14.237471313476561, BLEU score: 1.3576332664473463\n",
      "Time: 8m 31s (- -7m 36s), Epoch: [2/2], Step: [4/6669], Train Loss: 8.816268920898438, BLEU score: 1.4121792861873559\n"
     ]
    },
    {
     "data": {
      "image/png": "[encoded data removed]",
      "text/plain": [
       "<Figure size 1080x360 with 2 Axes>"
      ]
     },
     "metadata": {
      "needs_background": "light"
     },
     "output_type": "display_data"
    }
   ],
   "source": [
    "train_model('cnn', 'attn', hyper)"
   ]
  },
  {
   "cell_type": "markdown",
   "metadata": {},
   "source": [
    "cnn+noattn"
   ]
  },
  {
   "cell_type": "code",
   "execution_count": 30,
   "metadata": {},
   "outputs": [
    {
     "name": "stdout",
     "output_type": "stream",
     "text": [
      "Time: 2m 40s (- -2m 39s), Epoch: [1/2], Step: [2/6669], Train Loss: 16.581331787109377, BLEU score: 0.18771740916803975\n",
      "Time: 5m 0s (- -4m 14s), Epoch: [1/2], Step: [4/6669], Train Loss: 10.499592895507813, BLEU score: 0.4489147152479152\n",
      "Time: 7m 45s (- -4m 7s), Epoch: [2/2], Step: [2/6669], Train Loss: 15.391780395507812, BLEU score: 1.413468997604597\n",
      "Time: 10m 18s (- -8m 16s), Epoch: [2/2], Step: [4/6669], Train Loss: 9.748080749511718, BLEU score: 1.4173624798705138\n"
     ]
    },
    {
     "data": {
      "image/png": "[encoded data removed]",
      "text/plain": [
       "<Figure size 1080x360 with 2 Axes>"
      ]
     },
     "metadata": {
      "needs_background": "light"
     },
     "output_type": "display_data"
    }
   ],
   "source": [
    "train_model('cnn', 'noattn', hyper)"
   ]
  },
  {
   "cell_type": "code",
   "execution_count": null,
   "metadata": {
    "collapsed": true
   },
   "outputs": [],
   "source": []
  }
 ],
 "metadata": {
  "kernelspec": {
   "display_name": "Python 3",
   "language": "python",
   "name": "python3"
  },
  "language_info": {
   "codemirror_mode": {
    "name": "ipython",
    "version": 3
   },
   "file_extension": ".py",
   "mimetype": "text/x-python",
   "name": "python",
   "nbconvert_exporter": "python",
   "pygments_lexer": "ipython3",
   "version": "3.6.2"
  }
 },
 "nbformat": 4,
 "nbformat_minor": 2
}
