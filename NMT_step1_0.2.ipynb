{
 "cells": [
  {
   "cell_type": "markdown",
   "metadata": {},
   "source": [
    "TODO:\n",
    "1. CNN - done\n",
    "2. plot - done\n",
    "3. BLEU\n",
    "4. early stopping"
   ]
  },
  {
   "cell_type": "code",
   "execution_count": 1,
   "metadata": {},
   "outputs": [],
   "source": [
    "from __future__ import unicode_literals, print_function, division\n",
    "import pickle as pkl\n",
    "from io import open\n",
    "import unicodedata\n",
    "import string\n",
    "import re\n",
    "import random\n",
    "import torch\n",
    "from torch.utils.data import Dataset\n",
    "import matplotlib.pyplot as plt\n",
    "import numpy as np\n",
    "import pandas as pd\n",
    "plt.switch_backend('agg')\n",
    "import matplotlib.ticker as ticker\n",
    "%matplotlib inline\n",
    "import torch.nn as nn\n",
    "from torch import optim\n",
    "import torch.nn.functional as F\n",
    "import time\n",
    "teacher_forcing_ratio = 0.5\n",
    "import math\n",
    "device = 'cuda' if torch.cuda.is_available() else 'cpu'\n"
   ]
  },
  {
   "cell_type": "markdown",
   "metadata": {},
   "source": [
    "## Data Pre-processing"
   ]
  },
  {
   "cell_type": "code",
   "execution_count": 2,
   "metadata": {},
   "outputs": [],
   "source": [
    "SOS_token = 0\n",
    "EOS_token = 1\n",
    "PAD_IDX = 2\n",
    "UNK_IDX = 3\n",
    "class Lang:\n",
    "    def __init__(self, name):\n",
    "        self.name = name\n",
    "        self.word2index = {}\n",
    "        self.word2count = {}\n",
    "        self.index2word = {0: \"SOS\", 1: \"EOS\", 2:\"UNK\", 3:\"PAD\"}\n",
    "        self.n_words = 4  # Count SOS and EOS\n",
    "\n",
    "    def addSentence(self, sentence):\n",
    "        for word in sentence:\n",
    "            self.addWord(word)\n",
    "\n",
    "    def addWord(self, word):\n",
    "        if word not in self.word2index:\n",
    "            self.word2index[word] = self.n_words\n",
    "            self.word2count[word] = 1\n",
    "            self.index2word[self.n_words] = word\n",
    "            self.n_words += 1\n",
    "        else:\n",
    "            self.word2count[word] += 1"
   ]
  },
  {
   "cell_type": "code",
   "execution_count": 3,
   "metadata": {},
   "outputs": [],
   "source": [
    "def normalizeString(s):\n",
    "    s = re.sub(r\"([.!?])\", r\" \\1\", s)\n",
    "    s = re.sub(r\"&apos;m\", r\"am\", s)\n",
    "    s = re.sub(r\"&apos;s\", r\"is\", s)\n",
    "    s = re.sub(r\"&apos;re\", r\"are\", s)\n",
    "    s = re.sub(r\"&apos;\", r\"\", s)\n",
    "    return s"
   ]
  },
  {
   "cell_type": "code",
   "execution_count": 4,
   "metadata": {},
   "outputs": [],
   "source": [
    "def asMinutes(s):\n",
    "    m = math.floor(s / 60)\n",
    "    s -= m * 60\n",
    "    return '%dm %ds' % (m, s)\n",
    "\n",
    "\n",
    "def timeSince(since, percent):\n",
    "    now = time.time()\n",
    "    s = now - since\n",
    "    es = s / (percent)\n",
    "    rs = es - s\n",
    "    return '%s (- %s)' % (asMinutes(s), asMinutes(rs))\n",
    "\n",
    "def showPlot(points):\n",
    "    plt.figure()\n",
    "    fig, ax = plt.subplots()\n",
    "    # this locator puts ticks at regular intervals\n",
    "    loc = ticker.MultipleLocator(base=0.5)\n",
    "    ax.yaxis.set_major_locator(loc)\n",
    "    plt.plot(points)\n",
    "    plt.show()\n"
   ]
  },
  {
   "cell_type": "code",
   "execution_count": 5,
   "metadata": {},
   "outputs": [],
   "source": [
    "def loadingLangs(sourcelang, targetlang, setname):\n",
    "    input_ls = []\n",
    "    output_ls = []\n",
    "    print('Reading lines...')\n",
    "    # Read the file \n",
    "    with open('data/iwslt-%s-%s/%s.tok.%s'%(sourcelang, targetlang, setname,sourcelang)) as f:\n",
    "        for line in f.readlines():\n",
    "            input_ls.append([normalizeString(word) for word in line.split()])\n",
    "    with open('data/iwslt-%s-%s/%s.tok.%s'%(sourcelang, targetlang, setname,targetlang)) as f:\n",
    "        for line in f.readlines():\n",
    "            output_ls.append([normalizeString(word) for word in line.split()])\n",
    "    pairs = list(zip(input_ls, output_ls))\n",
    "    print('Read %s sentence pairs'%(len(input_ls)))\n",
    "    input_lang = Lang(sourcelang)\n",
    "    output_lang = Lang(targetlang)\n",
    "    print(\"Counting words...\")\n",
    "    for pair in pairs:\n",
    "        input_lang.addSentence(pair[0])\n",
    "        output_lang.addSentence(pair[1])\n",
    "    print(\"Counted words:\")\n",
    "    print(input_lang.name, input_lang.n_words)\n",
    "    print(output_lang.name, output_lang.n_words)\n",
    "    return input_lang, output_lang, pairs"
   ]
  },
  {
   "cell_type": "code",
   "execution_count": 6,
   "metadata": {},
   "outputs": [
    {
     "name": "stdout",
     "output_type": "stream",
     "text": [
      "Reading lines...\n",
      "Read 213377 sentence pairs\n",
      "Counting words...\n",
      "Counted words:\n",
      "zh 88918\n",
      "en 69063\n"
     ]
    }
   ],
   "source": [
    "source_tra, target_tra, pairs_tra = loadingLangs('zh', 'en', 'train')"
   ]
  },
  {
   "cell_type": "code",
   "execution_count": 7,
   "metadata": {},
   "outputs": [
    {
     "name": "stdout",
     "output_type": "stream",
     "text": [
      "95% of chinese sentences length = 44.0\n",
      "95% of english sentences length = 48.0\n",
      "(['钚', '10', '到', '13', '磅', '这', '是', '这么', '多', '这些', '钚', '足以', '制造', '一个', '威力', '相当', '相当于', '当于', '在', '长崎', '爆炸', '的', '那', '枚', '原子', '原子弹', '子弹'], ['Now', ',', 'plutonium', ',', '10', 'to', '13', 'pounds', ':', 'this', ' .', 'This', 'is', 'enough', 'plutonium', 'to', 'create', 'a', 'Nagasaki-size', 'atomic', 'weapon', ' .'])\n"
     ]
    }
   ],
   "source": [
    "print(\"95% of chinese sentences length = {0}\".format(np.percentile([len(x[0]) for x in pairs_tra], 95)))\n",
    "print(\"95% of english sentences length = {0}\".format(np.percentile([len(x[1]) for x in pairs_tra], 95)))\n",
    "print(random.choice(pairs_tra))"
   ]
  },
  {
   "cell_type": "markdown",
   "metadata": {},
   "source": [
    "## Dataset"
   ]
  },
  {
   "cell_type": "code",
   "execution_count": 8,
   "metadata": {},
   "outputs": [],
   "source": [
    "MAX_SENT_LEN = 50\n",
    "BATCH_SIZE = 32"
   ]
  },
  {
   "cell_type": "code",
   "execution_count": 9,
   "metadata": {},
   "outputs": [],
   "source": [
    "def indexesFromSentence(lang, sentence):\n",
    "    return [lang.word2index[word] if word in lang.word2index else UNK_IDX for word in sentence]\n",
    "\n",
    "\n",
    "def tensorFromSentence(lang, sentence):\n",
    "    indexes = indexesFromSentence(lang, sentence)\n",
    "    indexes.append(EOS_token)\n",
    "    return torch.tensor(indexes, dtype=torch.long, device=device).view(-1, 1)\n",
    "\n",
    "\n",
    "def tensorsFromPair(pair,source,target):\n",
    "    input_lang = source\n",
    "    output_lang = target\n",
    "    input_tensor = tensorFromSentence(input_lang, pair[0]).reshape((-1))\n",
    "    target_tensor = tensorFromSentence(output_lang, pair[1]).reshape((-1))\n",
    "    return (input_tensor, input_tensor.shape[0], target_tensor, target_tensor.shape[0])"
   ]
  },
  {
   "cell_type": "code",
   "execution_count": 10,
   "metadata": {},
   "outputs": [],
   "source": [
    "class NMTDataset(Dataset):\n",
    "    def __init__(self, source, target, pairs):\n",
    "        self.source = source\n",
    "        self.target = target\n",
    "        self.pairs = pairs\n",
    "        \n",
    "    def __len__(self):\n",
    "        return len(self.pairs)\n",
    "    \n",
    "    def __getitem__(self, key):\n",
    "        \"\"\"\n",
    "        Triggered when you call dataset[i]\n",
    "        \"\"\"\n",
    "        inp_ten, inp_len, tar_ten, tar_len = tensorsFromPair(self.pairs[key], self.source, self.target)\n",
    "        item = {}\n",
    "        item['inputtensor'] = inp_ten[:MAX_SENT_LEN]\n",
    "        item['inputlen'] = min(inp_len, MAX_SENT_LEN)\n",
    "        item['targettensor'] = tar_ten[:MAX_SENT_LEN]\n",
    "        item['targetlen'] = min(tar_len, MAX_SENT_LEN)\n",
    "        return item"
   ]
  },
  {
   "cell_type": "code",
   "execution_count": 11,
   "metadata": {},
   "outputs": [],
   "source": [
    "train_data = NMTDataset(source_tra, target_tra, pairs_tra)\n",
    "# val_data = NMTDataset(source_val, target_val, pairs_val)\n",
    "# test_data = NMTDataset(source_tes, target_tes, pairs_tes)"
   ]
  },
  {
   "cell_type": "markdown",
   "metadata": {},
   "source": [
    "## Dataloader"
   ]
  },
  {
   "cell_type": "code",
   "execution_count": 12,
   "metadata": {},
   "outputs": [],
   "source": [
    "#collate function\n",
    "\n",
    "def collate_func(batch):\n",
    "    \"\"\"\n",
    "    Customized function for DataLoader that dynamically pads the batch so that all\n",
    "    data have the same length\n",
    "    \"\"\"\n",
    "    src_data, tar_data, src_len, tar_len = [], [], [], []\n",
    "    for datum in batch:        \n",
    "        src_datum = np.pad(np.array(datum['inputtensor']),\n",
    "                                pad_width=((0,MAX_SENT_LEN-datum['inputlen'])),\n",
    "                                mode=\"constant\", constant_values=PAD_IDX)\n",
    "        tar_datum = np.pad(np.array(datum['targettensor']),\n",
    "                                pad_width=((0,MAX_SENT_LEN-datum['targetlen'])),\n",
    "                                mode=\"constant\", constant_values=PAD_IDX)\n",
    "        src_data.append(src_datum)\n",
    "        tar_data.append(tar_datum)\n",
    "        src_len.append(datum['inputlen'])\n",
    "        tar_len.append(datum['targetlen'])\n",
    "    return [torch.from_numpy(np.array(src_data)).to(device),torch.from_numpy(np.array(tar_data)).to(device),\n",
    "               torch.from_numpy(np.array(src_len)).to(device),torch.from_numpy(np.array(tar_len)).to(device)]"
   ]
  },
  {
   "cell_type": "code",
   "execution_count": 13,
   "metadata": {},
   "outputs": [],
   "source": [
    "train_loader = torch.utils.data.DataLoader(train_data,\n",
    "                                           batch_size=BATCH_SIZE,shuffle=False,collate_fn=collate_func) #### hu change back to True"
   ]
  },
  {
   "cell_type": "markdown",
   "metadata": {},
   "source": [
    "----------------------"
   ]
  },
  {
   "cell_type": "markdown",
   "metadata": {},
   "source": [
    "## Model"
   ]
  },
  {
   "cell_type": "code",
   "execution_count": 14,
   "metadata": {},
   "outputs": [],
   "source": [
    "class EncoderRNN(nn.Module):\n",
    "    def __init__(self, input_size, hidden_size, n_layers = 1):\n",
    "        super(EncoderRNN, self).__init__()\n",
    "        self.n_layers = n_layers\n",
    "        self.hidden_size = hidden_size\n",
    "\n",
    "        self.embedding = nn.Embedding(input_size, hidden_size)\n",
    "        self.gru = nn.GRU(hidden_size, hidden_size, bidirectional=True) \n",
    "        self.fc1 = nn.Linear(2*hidden_size, hidden_size)\n",
    "    def initHidden(self,BATCH_SIZE):\n",
    "        return torch.zeros(2, BATCH_SIZE, self.hidden_size, device=device) \n",
    "    \n",
    "    def forward(self, input, hidden):\n",
    "        embedded = self.embedding(input).view(1, BATCH_SIZE, -1)  \n",
    "        output = embedded\n",
    "        for i in range(self.n_layers):\n",
    "            output, hidden = self.gru(output, hidden)  \n",
    "        output = self.fc1(output)\n",
    "        return output, hidden"
   ]
  },
  {
   "cell_type": "code",
   "execution_count": 15,
   "metadata": {},
   "outputs": [],
   "source": [
    "class EncoderCNN(nn.Module):\n",
    "    def __init__(self, input_size, hidden_size, ker_size=3):\n",
    "        super(EncoderCNN, self).__init__()\n",
    "        self.hidden_size = hidden_size\n",
    "\n",
    "        self.embedding = nn.Embedding(input_size, hidden_size)\n",
    "        self.conv1 = nn.Conv1d(hidden_size, hidden_size, kernel_size=ker_size, padding=(ker_size-1)//2)\n",
    "        self.conv2 = nn.Conv1d(hidden_size, hidden_size, kernel_size=ker_size, padding=(ker_size-1)//2)\n",
    "        self.fc1 = nn.Linear(hidden_size, hidden_size)\n",
    "    \n",
    "    \n",
    "    def forward(self, input, hidden):\n",
    "        seq_len, batch_size = input.size()\n",
    "        \n",
    "        embedded = self.embedding(input) \n",
    "        output = embedded\n",
    "        output = self.conv1(output.transpose(1,2)).transpose(1,2)\n",
    "        output = F.relu(output.contiguous().view(-1, output.size(-1))).view(BATCH_SIZE, seq_len, output.size(-1))\n",
    "\n",
    "        output = torch.nn.functional.max_pool1d(output.transpose(1,2), seq_len).transpose(1,2)\n",
    "        output = output.view(-1, output.size(-1))\n",
    "        output = self.fc1(output)\n",
    "        return output, output\n",
    "    \n",
    "    def initHidden(self,BATCH_SIZE):\n",
    "        return torch.zeros(1, BATCH_SIZE, self.hidden_size, device=device)"
   ]
  },
  {
   "cell_type": "code",
   "execution_count": 16,
   "metadata": {},
   "outputs": [],
   "source": [
    "class Decoder(nn.Module):\n",
    "    def __init__(self, hidden_size, output_size, dropout_p=0.1, max_length=MAX_SENT_LEN, n_layers=1):\n",
    "\n",
    "        super(Decoder, self).__init__()\n",
    "        self.hidden_size = hidden_size\n",
    "        self.output_size = output_size\n",
    "        self.dropout_p = dropout_p\n",
    "        self.max_length = max_length\n",
    "        self.n_layers = n_layers\n",
    "\n",
    "        self.embedding = nn.Embedding(self.output_size, self.hidden_size)\n",
    "        self.dropout = nn.Dropout(self.dropout_p)\n",
    "        self.gru = nn.GRU(self.hidden_size, self.hidden_size)\n",
    "        self.out = nn.Linear(self.hidden_size, self.output_size)\n",
    "\n",
    "    def forward(self, input, hidden, encoder_outputs):\n",
    "        output= self.embedding(input).view(1, BATCH_SIZE, -1)\n",
    "        \n",
    "        for i in range(self.n_layers):\n",
    "            output = F.relu(output)\n",
    "            output, hidden = self.gru(output, hidden)\n",
    "\n",
    "        output = F.log_softmax(self.out(output[0]), dim=1)\n",
    "\n",
    "        return output, hidden"
   ]
  },
  {
   "cell_type": "code",
   "execution_count": 17,
   "metadata": {},
   "outputs": [],
   "source": [
    "class AttnDecoder(nn.Module):\n",
    "    def __init__(self, hidden_size, output_size, dropout_p=0.1, max_length=MAX_SENT_LEN):\n",
    "        super(AttnDecoder, self).__init__()\n",
    "        self.hidden_size = hidden_size\n",
    "        self.output_size = output_size\n",
    "        self.dropout_p = dropout_p\n",
    "        self.max_length = max_length\n",
    "\n",
    "        self.embedding = nn.Embedding(self.output_size, self.hidden_size)\n",
    "        self.attn = nn.Linear(self.hidden_size * 2, self.max_length)\n",
    "        self.attn_combine = nn.Linear(self.hidden_size * 2, self.hidden_size)\n",
    "        self.dropout = nn.Dropout(self.dropout_p)\n",
    "        self.gru = nn.GRU(self.hidden_size, self.hidden_size)\n",
    "        self.out = nn.Linear(self.hidden_size, self.output_size)\n",
    "\n",
    "    def forward(self, input, hidden, encoder_outputs):\n",
    "        embedded = self.embedding(input).view(1, BATCH_SIZE, -1)\n",
    "        embedded = self.dropout(embedded)\n",
    "        \n",
    "        \n",
    "        attn_weights = F.softmax(\n",
    "            self.attn(torch.cat((embedded[0], hidden[0]), 1)), dim=1)   \n",
    "        attn_applied = torch.bmm(attn_weights.unsqueeze(1),\n",
    "                                 encoder_outputs.transpose(0,1))\n",
    "        \n",
    "        output = torch.cat((embedded[0], attn_applied.transpose(0,1)[0]), 1)\n",
    "        output = self.attn_combine(output).unsqueeze(0)\n",
    "        output = F.relu(output)\n",
    "        output, hidden = self.gru(output, hidden)\n",
    "        output = F.log_softmax(self.out(output[0]), dim=1)\n",
    "\n",
    "        return output, hidden, attn_weights"
   ]
  },
  {
   "cell_type": "markdown",
   "metadata": {},
   "source": [
    "-------------------------------"
   ]
  },
  {
   "cell_type": "markdown",
   "metadata": {},
   "source": [
    "## Train"
   ]
  },
  {
   "cell_type": "code",
   "execution_count": 18,
   "metadata": {},
   "outputs": [],
   "source": [
    "def train(input_tensor, target_tensor, encoder, decoder,\n",
    "          encoder_optimizer, decoder_optimizer, criterion, mode=None, mode_enc=None):\n",
    "    encoder_hidden = encoder.initHidden(BATCH_SIZE)\n",
    "    encoder_optimizer.zero_grad()\n",
    "    decoder_optimizer.zero_grad()\n",
    "\n",
    "    input_length = input_tensor.size(0) \n",
    "    target_length = target_tensor.size(0)\n",
    "    encoder_outputs = torch.zeros(target_length, BATCH_SIZE, encoder.hidden_size, device=device) \n",
    "    loss = 0\n",
    "    \n",
    "    # feed-forward layer resulting encoder outputs, ei refers to each word token in input sentence\n",
    "    for ei in range(input_length):\n",
    "        if mode_enc == 'cnn':\n",
    "            if ei >= 10:\n",
    "                encoder_output, encoder_hidden = encoder(\n",
    "                    input_tensor[:ei], encoder_hidden)\n",
    "\n",
    "                encoder_outputs[ei-10] = encoder_output \n",
    "        else: \n",
    "            encoder_output, encoder_hidden = encoder(\n",
    "                input_tensor[ei], encoder_hidden)  \n",
    "            encoder_outputs[ei] = encoder_output[0] \n",
    "\n",
    "    if mode_enc == 'cnn':\n",
    "        encoder_hidden = nn.Linear(hidden_size,hidden_size)(encoder_hidden).unsqueeze(0)\n",
    "    else:\n",
    "        encoder_hidden = nn.Linear(2*hidden_size,hidden_size)(\n",
    "            torch.cat((encoder_hidden[0],encoder_hidden[1]),dim = 1)).unsqueeze(0)\n",
    "    \n",
    "    decoder_input = torch.tensor([[SOS_token]*BATCH_SIZE], device=device)  \n",
    "\n",
    "    decoder_hidden = encoder_hidden\n",
    "    \n",
    "    use_teacher_forcing = True if random.random() < teacher_forcing_ratio else False\n",
    "    \n",
    "    if use_teacher_forcing:\n",
    "  \n",
    "        for di in range(target_length):\n",
    "            if mode == 'attn':\n",
    "                decoder_output, decoder_hidden, decoder_attention = decoder(\n",
    "                    decoder_input, decoder_hidden, encoder_outputs)\n",
    "            else:\n",
    "                decoder_output, decoder_hidden = decoder(\n",
    "                    decoder_input, decoder_hidden, encoder_outputs)\n",
    "                \n",
    "            \n",
    "            decoder_input = target_tensor[di]  \n",
    "\n",
    "            loss += criterion(decoder_output, target_tensor[di]) \n",
    "\n",
    "            \n",
    "    else:\n",
    "  \n",
    "        for di in range(target_length):\n",
    "            if mode == 'attn':\n",
    "                decoder_output, decoder_hidden, decoder_attention = decoder(\n",
    "                    decoder_input, decoder_hidden, encoder_outputs)\n",
    "            else:\n",
    "                decoder_output, decoder_hidden = decoder(\n",
    "                    decoder_input, decoder_hidden, encoder_outputs)\n",
    "\n",
    "            topv, topi = decoder_output.topk(1)\n",
    " \n",
    "            decoder_input = topi.squeeze().detach() \n",
    "  \n",
    "            loss += criterion(decoder_output, target_tensor[di])\n",
    "\n",
    "\n",
    "            \n",
    "    loss.backward()\n",
    "    \n",
    "    \n",
    "    encoder_optimizer.step() \n",
    "    decoder_optimizer.step()\n",
    "\n",
    "    return loss.item() / target_length"
   ]
  },
  {
   "cell_type": "markdown",
   "metadata": {},
   "source": [
    "-------------------------------------------"
   ]
  },
  {
   "cell_type": "markdown",
   "metadata": {},
   "source": [
    "RNN+Attn"
   ]
  },
  {
   "cell_type": "code",
   "execution_count": 19,
   "metadata": {},
   "outputs": [
    {
     "name": "stdout",
     "output_type": "stream",
     "text": [
      "Time: 0m 15s (- -1m 52s), Epoch: [1/3], Step: [2/6669], Train Loss: 16.643192749023434\n",
      "Time: 0m 23s (- -1m 42s), Epoch: [1/3], Step: [4/6669], Train Loss: 10.079190368652345\n",
      "Time: 0m 33s (- -1m 31s), Epoch: [1/3], Step: [6/6669], Train Loss: 9.250121765136718\n",
      "Time: 0m 41s (- -1m 23s), Epoch: [1/3], Step: [8/6669], Train Loss: 8.669835510253908\n",
      "Time: 0m 50s (- -1m 14s), Epoch: [1/3], Step: [10/6669], Train Loss: 8.034442443847656\n",
      "Time: 0m 59s (- -1m 30s), Epoch: [2/3], Step: [2/6669], Train Loss: 11.139737854003906\n",
      "Time: 1m 6s (- -1m 10s), Epoch: [2/3], Step: [4/6669], Train Loss: 6.590702514648438\n",
      "Time: 1m 13s (- -2m 59s), Epoch: [2/3], Step: [6/6669], Train Loss: 6.043616943359375\n",
      "Time: 1m 21s (- -2m 48s), Epoch: [2/3], Step: [8/6669], Train Loss: 5.476578979492187\n",
      "Time: 1m 31s (- -2m 37s), Epoch: [2/3], Step: [10/6669], Train Loss: 4.867894592285157\n",
      "Time: 1m 42s (- -1m 8s), Epoch: [3/3], Step: [2/6669], Train Loss: 6.830350494384765\n",
      "Time: 1m 50s (- -2m 37s), Epoch: [3/3], Step: [4/6669], Train Loss: 3.9077139282226563\n",
      "Time: 1m 56s (- -2m 22s), Epoch: [3/3], Step: [6/6669], Train Loss: 3.5725894165039063\n",
      "Time: 2m 5s (- -2m 10s), Epoch: [3/3], Step: [8/6669], Train Loss: 3.2278065490722656\n",
      "Time: 2m 13s (- -3m 59s), Epoch: [3/3], Step: [10/6669], Train Loss: 2.7791294860839844\n",
      "[16.643192749023434, 10.079190368652345, 9.250121765136718, 8.669835510253908, 8.034442443847656, 11.139737854003906, 6.590702514648438, 6.043616943359375, 5.476578979492187, 4.867894592285157, 6.830350494384765, 3.9077139282226563, 3.5725894165039063, 3.2278065490722656, 2.7791294860839844]\n"
     ]
    },
    {
     "data": {
      "text/plain": [
       "<Figure size 432x288 with 0 Axes>"
      ]
     },
     "metadata": {},
     "output_type": "display_data"
    },
    {
     "data": {
      "image/png": "[encoded data removed]",
      "text/plain": [
       "<Figure size 432x288 with 1 Axes>"
      ]
     },
     "metadata": {
      "needs_background": "light"
     },
     "output_type": "display_data"
    }
   ],
   "source": [
    "hidden_size = 16 # hu: increase it\n",
    "learning_rate=0.01\n",
    "num_epoch = 3\n",
    "print_every = 2\n",
    "plot_every = 2\n",
    "mode = 'attn'\n",
    "rnn_encoder = EncoderRNN(source_tra.n_words,hidden_size).to(device)\n",
    "attn_decoder = AttnDecoder(hidden_size, target_tra.n_words, dropout_p=0.1).to(device)\n",
    "\n",
    "start = time.time()\n",
    "\n",
    "encoder_optimizer = optim.Adam(rnn_encoder.parameters(), lr=learning_rate)\n",
    "decoder_optimizer = optim.Adam(attn_decoder.parameters(), lr=learning_rate)\n",
    "#hu\n",
    "criterion = nn.NLLLoss() \n",
    "\n",
    "plot_losses = []\n",
    "print_loss_total = 0 \n",
    "plot_loss_total = 0  \n",
    "for epoch in range(1, num_epoch + 1): \n",
    "    for i, (input_sentences, target_sentences,len1,len2) in enumerate(train_loader): \n",
    "        ##### Hu\n",
    "       \n",
    "        #rnn_encoder.train()\n",
    "        #attn_decoder.train()\n",
    "        ###Hu\n",
    "        if i > 10:\n",
    "            break\n",
    "            #####\n",
    "        input_tensor = input_sentences.transpose(0,1)   \n",
    "        target_tensor = target_sentences.transpose(0,1) \n",
    "        loss = train(input_tensor, target_tensor, rnn_encoder,\n",
    "                     attn_decoder, encoder_optimizer, decoder_optimizer, criterion, mode=mode)\n",
    "        print_loss_total += loss\n",
    "        plot_loss_total += loss\n",
    "\n",
    "        if i > 0 and i % print_every == 0:\n",
    "                print_loss_avg = print_loss_total / print_every\n",
    "                print_loss_total = 0\n",
    "                print('Time: {}, Epoch: [{}/{}], Step: [{}/{}], Train Loss: {}'.format(\n",
    "                    timeSince(start, i + 1/len(train_loader)), epoch, num_epoch, i, \n",
    "                    len(train_loader),print_loss_avg))\n",
    "\n",
    "        if i > 0 and i % plot_every == 0:\n",
    "            plot_loss_avg = plot_loss_total / plot_every\n",
    "            plot_losses.append(plot_loss_avg)\n",
    "            plot_loss_total = 0\n",
    "                \n",
    "print(plot_losses)\n",
    "showPlot(plot_losses)"
   ]
  },
  {
   "cell_type": "markdown",
   "metadata": {},
   "source": [
    "Rnn+noattn"
   ]
  },
  {
   "cell_type": "code",
   "execution_count": 20,
   "metadata": {},
   "outputs": [
    {
     "name": "stdout",
     "output_type": "stream",
     "text": [
      "Time: 0m 11s (- -1m 54s), Epoch: [1/3], Step: [2/6669], Train Loss: 16.686149291992187\n",
      "Time: 0m 21s (- -1m 43s), Epoch: [1/3], Step: [4/6669], Train Loss: 10.65434814453125\n",
      "Time: 0m 30s (- -1m 34s), Epoch: [1/3], Step: [6/6669], Train Loss: 10.26461151123047\n",
      "Time: 0m 38s (- -1m 25s), Epoch: [1/3], Step: [8/6669], Train Loss: 9.64865753173828\n",
      "Time: 0m 47s (- -1m 17s), Epoch: [1/3], Step: [10/6669], Train Loss: 8.882395019531248\n",
      "Time: 0m 58s (- -1m 30s), Epoch: [2/3], Step: [2/6669], Train Loss: 12.079030761718748\n",
      "Time: 1m 7s (- -1m 9s), Epoch: [2/3], Step: [4/6669], Train Loss: 7.010560302734375\n",
      "Time: 1m 15s (- -2m 57s), Epoch: [2/3], Step: [6/6669], Train Loss: 6.380623779296875\n",
      "Time: 1m 24s (- -2m 46s), Epoch: [2/3], Step: [8/6669], Train Loss: 5.743663940429688\n",
      "Time: 1m 31s (- -2m 37s), Epoch: [2/3], Step: [10/6669], Train Loss: 5.076470794677734\n",
      "Time: 1m 42s (- -1m 8s), Epoch: [3/3], Step: [2/6669], Train Loss: 7.0368911743164055\n",
      "Time: 1m 48s (- -2m 38s), Epoch: [3/3], Step: [4/6669], Train Loss: 4.013049011230469\n",
      "Time: 1m 56s (- -2m 23s), Epoch: [3/3], Step: [6/6669], Train Loss: 3.6758810424804684\n",
      "Time: 2m 4s (- -2m 11s), Epoch: [3/3], Step: [8/6669], Train Loss: 3.3149098205566405\n",
      "Time: 2m 11s (- -2m 1s), Epoch: [3/3], Step: [10/6669], Train Loss: 2.8427061462402343\n",
      "[16.686149291992187, 10.65434814453125, 10.26461151123047, 9.64865753173828, 8.882395019531248, 12.079030761718748, 7.010560302734375, 6.380623779296875, 5.743663940429688, 5.076470794677734, 7.0368911743164055, 4.013049011230469, 3.6758810424804684, 3.3149098205566405, 2.8427061462402343]\n"
     ]
    },
    {
     "data": {
      "text/plain": [
       "<Figure size 432x288 with 0 Axes>"
      ]
     },
     "metadata": {},
     "output_type": "display_data"
    },
    {
     "data": {
      "image/png": "[encoded data removed]",
      "text/plain": [
       "<Figure size 432x288 with 1 Axes>"
      ]
     },
     "metadata": {
      "needs_background": "light"
     },
     "output_type": "display_data"
    }
   ],
   "source": [
    "hidden_size = 16 # hu: increase it\n",
    "learning_rate=0.01\n",
    "num_epoch = 3\n",
    "print_every = 2\n",
    "plot_every = 2\n",
    "mode = 'noattn'\n",
    "rnn_encoder = EncoderRNN(source_tra.n_words,hidden_size).to(device)\n",
    "decoder = Decoder(hidden_size, target_tra.n_words, dropout_p=0.1).to(device)\n",
    "\n",
    "start = time.time()\n",
    "\n",
    "encoder_optimizer = optim.Adam(rnn_encoder.parameters(), lr=learning_rate)\n",
    "decoder_optimizer = optim.Adam(decoder.parameters(), lr=learning_rate)\n",
    "#hu\n",
    "criterion = nn.NLLLoss() \n",
    "\n",
    "plot_losses = []\n",
    "#     plot_bleu_score = []\n",
    "print_loss_total = 0 \n",
    "plot_loss_total = 0  \n",
    "for epoch in range(1, num_epoch + 1):\n",
    "    \n",
    "    for i, (input_sentences, target_sentences,len1,len2) in enumerate(train_loader): \n",
    "        \n",
    "        ##### Hu\n",
    "        rnn_encoder.train()\n",
    "        decoder.train()\n",
    "        ###Hu: remove it\n",
    "        if i > 10:\n",
    "            break\n",
    "\n",
    "        input_tensor = input_sentences.transpose(0,1)   \n",
    "        target_tensor = target_sentences.transpose(0,1) \n",
    "        loss = train(input_tensor, target_tensor, rnn_encoder,\n",
    "                     decoder, encoder_optimizer, decoder_optimizer, criterion, mode=mode)\n",
    "        print_loss_total += loss\n",
    "        plot_loss_total += loss\n",
    "\n",
    "        if i > 0 and i % print_every == 0:\n",
    "                print_loss_avg = print_loss_total / print_every\n",
    "                print_loss_total = 0\n",
    "                print('Time: {}, Epoch: [{}/{}], Step: [{}/{}], Train Loss: {}'.format(\n",
    "                    timeSince(start, i + 1/len(train_loader)), epoch, num_epoch, i, \n",
    "                    len(train_loader),print_loss_avg))\n",
    "\n",
    "        if i > 0 and i % plot_every == 0:\n",
    "            plot_loss_avg = plot_loss_total / plot_every\n",
    "            plot_losses.append(plot_loss_avg)\n",
    "            plot_loss_total = 0\n",
    "                \n",
    "print(plot_losses)\n",
    "showPlot(plot_losses)"
   ]
  },
  {
   "cell_type": "markdown",
   "metadata": {},
   "source": [
    "cnn+attn"
   ]
  },
  {
   "cell_type": "code",
   "execution_count": 21,
   "metadata": {},
   "outputs": [
    {
     "name": "stdout",
     "output_type": "stream",
     "text": [
      "Time: 0m 11s (- -1m 54s), Epoch: [1/3], Step: [2/6669], Train Loss: 16.561278686523437\n",
      "Time: 0m 18s (- -1m 45s), Epoch: [1/3], Step: [4/6669], Train Loss: 10.151349487304689\n",
      "Time: 0m 27s (- -1m 36s), Epoch: [1/3], Step: [6/6669], Train Loss: 9.310890197753906\n",
      "Time: 0m 34s (- -1m 29s), Epoch: [1/3], Step: [8/6669], Train Loss: 8.657449340820314\n",
      "Time: 0m 40s (- -1m 23s), Epoch: [1/3], Step: [10/6669], Train Loss: 8.288179321289062\n",
      "Time: 0m 52s (- -1m 33s), Epoch: [2/3], Step: [2/6669], Train Loss: 11.397132568359375\n",
      "Time: 0m 58s (- -1m 15s), Epoch: [2/3], Step: [4/6669], Train Loss: 7.084461669921875\n",
      "Time: 1m 6s (- -1m 4s), Epoch: [2/3], Step: [6/6669], Train Loss: 6.292591552734375\n",
      "Time: 1m 14s (- -2m 55s), Epoch: [2/3], Step: [8/6669], Train Loss: 5.73257080078125\n",
      "Time: 1m 22s (- -2m 45s), Epoch: [2/3], Step: [10/6669], Train Loss: 5.182185974121094\n",
      "Time: 1m 35s (- -1m 12s), Epoch: [3/3], Step: [2/6669], Train Loss: 7.288431396484375\n",
      "Time: 1m 42s (- -2m 43s), Epoch: [3/3], Step: [4/6669], Train Loss: 4.24798355102539\n",
      "Time: 1m 51s (- -2m 27s), Epoch: [3/3], Step: [6/6669], Train Loss: 3.8834756469726566\n",
      "Time: 1m 57s (- -2m 17s), Epoch: [3/3], Step: [8/6669], Train Loss: 3.5276060485839844\n",
      "Time: 2m 5s (- -2m 7s), Epoch: [3/3], Step: [10/6669], Train Loss: 3.073149871826172\n",
      "[16.561278686523437, 10.151349487304689, 9.310890197753906, 8.657449340820314, 8.288179321289062, 11.397132568359375, 7.084461669921875, 6.292591552734375, 5.73257080078125, 5.182185974121094, 7.288431396484375, 4.24798355102539, 3.8834756469726566, 3.5276060485839844, 3.073149871826172]\n"
     ]
    },
    {
     "data": {
      "text/plain": [
       "<Figure size 432x288 with 0 Axes>"
      ]
     },
     "metadata": {},
     "output_type": "display_data"
    },
    {
     "data": {
      "image/png": "[encoded data removed]",
      "text/plain": [
       "<Figure size 432x288 with 1 Axes>"
      ]
     },
     "metadata": {
      "needs_background": "light"
     },
     "output_type": "display_data"
    }
   ],
   "source": [
    "hidden_size = 16 # hu: increase it\n",
    "learning_rate =0.01\n",
    "num_epoch = 3\n",
    "print_every = 2\n",
    "plot_every = 2\n",
    "mode = 'attn'\n",
    "mode_enc = 'cnn'\n",
    "cnn_encoder = EncoderCNN(source_tra.n_words,hidden_size).to(device)\n",
    "attn_decoder = AttnDecoder(hidden_size, target_tra.n_words, dropout_p=0.1).to(device)\n",
    "\n",
    "start = time.time()\n",
    "\n",
    "encoder_optimizer = optim.Adam(cnn_encoder.parameters(), lr=learning_rate)\n",
    "decoder_optimizer = optim.Adam(attn_decoder.parameters(), lr=learning_rate)\n",
    "#hu\n",
    "criterion = nn.NLLLoss() \n",
    "\n",
    "plot_losses = []\n",
    "#     plot_bleu_score = []\n",
    "print_loss_total = 0 \n",
    "plot_loss_total = 0  \n",
    "for epoch in range(1, num_epoch + 1):\n",
    " \n",
    "    for i, (input_sentences, target_sentences,len1,len2) in enumerate(train_loader): \n",
    "        ##### Hu\n",
    "       \n",
    "        cnn_encoder.train()\n",
    "        attn_decoder.train()\n",
    "        ###Hu\n",
    "        if i > 10:\n",
    "            break\n",
    "            #####\n",
    "        input_tensor = input_sentences.transpose(0,1)   \n",
    "        target_tensor = target_sentences.transpose(0,1) \n",
    "        loss = train(input_tensor, target_tensor, cnn_encoder,\n",
    "                     attn_decoder, encoder_optimizer, decoder_optimizer, criterion, mode=mode, mode_enc=mode_enc)\n",
    "        print_loss_total += loss\n",
    "        plot_loss_total += loss\n",
    "\n",
    "        if i > 0 and i % print_every == 0:\n",
    "                print_loss_avg = print_loss_total / print_every\n",
    "                print_loss_total = 0\n",
    "                print('Time: {}, Epoch: [{}/{}], Step: [{}/{}], Train Loss: {}'.format(\n",
    "                    timeSince(start, i + 1/len(train_loader)), epoch, num_epoch, i, \n",
    "                    len(train_loader),print_loss_avg))\n",
    "\n",
    "        if i > 0 and i % plot_every == 0:\n",
    "            plot_loss_avg = plot_loss_total / plot_every\n",
    "            plot_losses.append(plot_loss_avg)\n",
    "            plot_loss_total = 0\n",
    "                \n",
    "print(plot_losses)\n",
    "showPlot(plot_losses)"
   ]
  },
  {
   "cell_type": "code",
   "execution_count": 22,
   "metadata": {},
   "outputs": [
    {
     "name": "stdout",
     "output_type": "stream",
     "text": [
      "Time: 0m 11s (- -1m 54s), Epoch: [1/3], Step: [2/6669], Train Loss: 16.484405517578125\n",
      "Time: 0m 17s (- -1m 46s), Epoch: [1/3], Step: [4/6669], Train Loss: 10.501760253906252\n",
      "Time: 0m 23s (- -1m 40s), Epoch: [1/3], Step: [6/6669], Train Loss: 10.034223937988282\n",
      "Time: 0m 31s (- -1m 32s), Epoch: [1/3], Step: [8/6669], Train Loss: 9.538506469726563\n",
      "Time: 0m 40s (- -1m 23s), Epoch: [1/3], Step: [10/6669], Train Loss: 8.791429138183593\n",
      "Time: 0m 49s (- -1m 35s), Epoch: [2/3], Step: [2/6669], Train Loss: 12.252068481445312\n",
      "Time: 0m 56s (- -1m 17s), Epoch: [2/3], Step: [4/6669], Train Loss: 7.266465759277343\n",
      "Time: 1m 2s (- -1m 7s), Epoch: [2/3], Step: [6/6669], Train Loss: 6.67144775390625\n",
      "Time: 1m 10s (- -2m 58s), Epoch: [2/3], Step: [8/6669], Train Loss: 6.039183044433594\n",
      "Time: 1m 16s (- -2m 51s), Epoch: [2/3], Step: [10/6669], Train Loss: 5.431757202148438\n",
      "Time: 1m 26s (- -1m 16s), Epoch: [3/3], Step: [2/6669], Train Loss: 7.493700408935547\n",
      "Time: 1m 34s (- -2m 49s), Epoch: [3/3], Step: [4/6669], Train Loss: 4.278468933105469\n",
      "Time: 1m 42s (- -2m 34s), Epoch: [3/3], Step: [6/6669], Train Loss: 3.889936981201172\n",
      "Time: 1m 51s (- -2m 22s), Epoch: [3/3], Step: [8/6669], Train Loss: 3.488205261230469\n",
      "Time: 1m 59s (- -2m 12s), Epoch: [3/3], Step: [10/6669], Train Loss: 3.0159934997558597\n",
      "[16.484405517578125, 10.501760253906252, 10.034223937988282, 9.538506469726563, 8.791429138183593, 12.252068481445312, 7.266465759277343, 6.67144775390625, 6.039183044433594, 5.431757202148438, 7.493700408935547, 4.278468933105469, 3.889936981201172, 3.488205261230469, 3.0159934997558597]\n"
     ]
    },
    {
     "data": {
      "text/plain": [
       "<Figure size 432x288 with 0 Axes>"
      ]
     },
     "metadata": {},
     "output_type": "display_data"
    },
    {
     "data": {
      "image/png": "[encoded data removed]",
      "text/plain": [
       "<Figure size 432x288 with 1 Axes>"
      ]
     },
     "metadata": {
      "needs_background": "light"
     },
     "output_type": "display_data"
    }
   ],
   "source": [
    "hidden_size = 16 # hu: increase it\n",
    "learning_rate=0.01\n",
    "num_epoch = 3\n",
    "print_every=2\n",
    "plot_every=2\n",
    "mode = 'noattn'\n",
    "mode_enc = 'cnn'\n",
    "cnn_encoder = EncoderCNN(source_tra.n_words,hidden_size).to(device)\n",
    "decoder = Decoder(hidden_size, target_tra.n_words, dropout_p=0.1).to(device)\n",
    "\n",
    "start = time.time()\n",
    "\n",
    "encoder_optimizer = optim.Adam(cnn_encoder.parameters(), lr=learning_rate)\n",
    "decoder_optimizer = optim.Adam(decoder.parameters(), lr=learning_rate)\n",
    "#hu\n",
    "criterion = nn.NLLLoss() \n",
    "\n",
    "plot_losses = []\n",
    "#     plot_bleu_score = []\n",
    "print_loss_total = 0 \n",
    "plot_loss_total = 0  \n",
    "for epoch in range(1, num_epoch + 1):\n",
    "\n",
    "    for i, (input_sentences, target_sentences,len1,len2) in enumerate(train_loader): \n",
    "        ##### Hu\n",
    "       \n",
    "        cnn_encoder.train()\n",
    "        decoder.train()\n",
    "        ###Hu\n",
    "        if i > 10:\n",
    "            break\n",
    "            #####\n",
    "        input_tensor = input_sentences.transpose(0,1)   \n",
    "        target_tensor = target_sentences.transpose(0,1) \n",
    "        loss = train(input_tensor, target_tensor, cnn_encoder,\n",
    "                     decoder, encoder_optimizer, decoder_optimizer, criterion, mode=mode, mode_enc=mode_enc)\n",
    "        print_loss_total += loss\n",
    "        plot_loss_total += loss\n",
    "\n",
    "        if i > 0 and i % print_every == 0:\n",
    "                print_loss_avg = print_loss_total / print_every\n",
    "                print_loss_total = 0\n",
    "                print('Time: {}, Epoch: [{}/{}], Step: [{}/{}], Train Loss: {}'.format(\n",
    "                    timeSince(start, i + 1/len(train_loader)), epoch, num_epoch, i, \n",
    "                    len(train_loader),print_loss_avg))\n",
    "\n",
    "        if i > 0 and i % plot_every == 0:\n",
    "            plot_loss_avg = plot_loss_total / plot_every\n",
    "            plot_losses.append(plot_loss_avg)\n",
    "            plot_loss_total = 0\n",
    "                \n",
    "print(plot_losses)\n",
    "showPlot(plot_losses)"
   ]
  },
  {
   "cell_type": "code",
   "execution_count": null,
   "metadata": {},
   "outputs": [],
   "source": []
  }
 ],
 "metadata": {
  "kernelspec": {
   "display_name": "Python 3",
   "language": "python",
   "name": "python3"
  },
  "language_info": {
   "codemirror_mode": {
    "name": "ipython",
    "version": 3
   },
   "file_extension": ".py",
   "mimetype": "text/x-python",
   "name": "python",
   "nbconvert_exporter": "python",
   "pygments_lexer": "ipython3",
   "version": "3.6.7"
  }
 },
 "nbformat": 4,
 "nbformat_minor": 2
}
